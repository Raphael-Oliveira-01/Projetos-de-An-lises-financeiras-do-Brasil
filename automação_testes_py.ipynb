{
  "nbformat": 4,
  "nbformat_minor": 0,
  "metadata": {
    "colab": {
      "provenance": [],
      "authorship_tag": "ABX9TyNeTzdLaJwPCaFEkCAIKYF8",
      "include_colab_link": true
    },
    "kernelspec": {
      "name": "python3",
      "display_name": "Python 3"
    },
    "language_info": {
      "name": "python"
    }
  },
  "cells": [
    {
      "cell_type": "markdown",
      "metadata": {
        "id": "view-in-github",
        "colab_type": "text"
      },
      "source": [
        "<a href=\"https://colab.research.google.com/github/Raphael-Oliveira-01/Projetos-de-An-lises-financeiras-do-Brasil/blob/main/automa%C3%A7%C3%A3o_testes_py.ipynb\" target=\"_parent\"><img src=\"https://colab.research.google.com/assets/colab-badge.svg\" alt=\"Open In Colab\"/></a>"
      ]
    },
    {
      "cell_type": "code",
      "execution_count": 1,
      "metadata": {
        "colab": {
          "base_uri": "https://localhost:8080/"
        },
        "id": "TURvlp5b0F9S",
        "outputId": "ce003c07-caca-41c8-90af-24dfec1caf94"
      },
      "outputs": [
        {
          "output_type": "stream",
          "name": "stdout",
          "text": [
            "Estrutura de pastas criada com sucesso!\n"
          ]
        }
      ],
      "source": [
        "# Criando as pastas do projeto\n",
        "!mkdir -p PROJETO_2_AUTOMACAO_TESTES\n",
        "!mkdir -p PROJETO_2_AUTOMACAO_TESTES/motor_credito\n",
        "!mkdir -p PROJETO_2_AUTOMACAO_TESTES/testes/casos_de_teste\n",
        "!mkdir -p PROJETO_2_AUTOMACAO_TESTES/config\n",
        "\n",
        "print(\"Estrutura de pastas criada com sucesso!\")"
      ]
    },
    {
      "cell_type": "code",
      "source": [
        "#  Criando os Arquivos do Projeto\n",
        "# 2.1 - Arquivo de Requisitos\n",
        "%%writefile PROJETO_2_AUTOMACAO_TESTES/requirements.txt\n",
        "pandas\n",
        "pytest\n",
        "openpyxl"
      ],
      "metadata": {
        "colab": {
          "base_uri": "https://localhost:8080/"
        },
        "id": "m67tTz3w01RF",
        "outputId": "6c847949-d3ba-422d-f109-3c25b60d4f3e"
      },
      "execution_count": 2,
      "outputs": [
        {
          "output_type": "stream",
          "name": "stdout",
          "text": [
            "Writing PROJETO_2_AUTOMACAO_TESTES/requirements.txt\n"
          ]
        }
      ]
    },
    {
      "cell_type": "code",
      "source": [
        "# 2.2 - Política de Crédito\n",
        "%%writefile PROJETO_2_AUTOMACAO_TESTES/config/politica_credito.json\n",
        "{\n",
        "    \"SCORE_MINIMO_NEGACAO\": 300,\n",
        "    \"IDADE_MINIMA\": 18,\n",
        "    \"RENDA_MINIMA_NEGACAO\": 1500,\n",
        "\n",
        "    \"SCORE_MINIMO_APROVACAO\": 750,\n",
        "    \"RENDA_MINIMA_APROVACAO\": 5000,\n",
        "    \"IDADE_MINIMA_APROVACAO\": 25,\n",
        "\n",
        "    \"SCORE_APROVACAO_DIRETA\": 950\n",
        "}"
      ],
      "metadata": {
        "colab": {
          "base_uri": "https://localhost:8080/"
        },
        "id": "7OBNVetl0-Ps",
        "outputId": "3fa5be01-1952-4163-d50d-06b004e77f7a"
      },
      "execution_count": 3,
      "outputs": [
        {
          "output_type": "stream",
          "name": "stdout",
          "text": [
            "Writing PROJETO_2_AUTOMACAO_TESTES/config/politica_credito.json\n"
          ]
        }
      ]
    },
    {
      "cell_type": "code",
      "source": [
        "# 2.3 - Motor de Crédito\n",
        "%%writefile PROJETO_2_AUTOMACAO_TESTES/motor_credito/engine.py\n",
        "import pandas as pd\n",
        "import json\n",
        "import os\n",
        "\n",
        "def carregar_politica_de_credito(caminho_arquivo: str) -> dict:\n",
        "    \"\"\"\n",
        "    Carrega os parâmetros da política de crédito de um arquivo JSON.\n",
        "    \"\"\"\n",
        "    try:\n",
        "        with open(caminho_arquivo, 'r') as f:\n",
        "            politica = json.load(f)\n",
        "        return politica\n",
        "    except FileNotFoundError:\n",
        "        print(f\"Erro: Arquivo de política não encontrado em '{caminho_arquivo}'\")\n",
        "        return None\n",
        "    except json.JSONDecodeError:\n",
        "        print(f\"Erro: O arquivo em '{caminho_arquivo}' não é um JSON válido.\")\n",
        "        return None\n",
        "\n",
        "def executar_motor_de_analise(df_solicitantes: pd.DataFrame, politica: dict) -> pd.DataFrame:\n",
        "    \"\"\"\n",
        "    Aplica a lógica de decisão a cada solicitante com base na política de crédito.\n",
        "    \"\"\"\n",
        "    if not politica:\n",
        "        raise ValueError(\"A política de crédito não foi carregada corretamente.\")\n",
        "\n",
        "    decisoes = []\n",
        "    justificativas = []\n",
        "\n",
        "    for _, solicitante in df_solicitantes.iterrows():\n",
        "        idade = solicitante['idade']\n",
        "        renda = solicitante['renda_mensal']\n",
        "        score = solicitante['score_credito']\n",
        "\n",
        "        if idade < politica['IDADE_MINIMA']:\n",
        "            decisoes.append('Negado')\n",
        "            justificativas.append(f\"Idade ({idade}) abaixo da mínima permitida ({politica['IDADE_MINIMA']})\")\n",
        "\n",
        "        elif score < politica['SCORE_MINIMO_NEGACAO']:\n",
        "            decisoes.append('Negado')\n",
        "            justificativas.append(f\"Score de crédito ({score}) abaixo do mínimo para análise ({politica['SCORE_MINIMO_NEGACAO']})\")\n",
        "\n",
        "        elif renda < politica['RENDA_MINIMA_NEGACAO']:\n",
        "            decisoes.append('Negado')\n",
        "            justificativas.append(f\"Renda mensal (R${renda:.2f}) abaixo da mínima para análise (R${politica['RENDA_MINIMA_NEGACAO']:.2f})\")\n",
        "\n",
        "        elif score >= politica['SCORE_APROVACAO_DIRETA']:\n",
        "            decisoes.append('Aprovado')\n",
        "            justificativas.append(f\"Score de crédito ({score}) acima do ponto de aprovação direta ({politica['SCORE_APROVACAO_DIRETA']})\")\n",
        "\n",
        "        elif (score >= politica['SCORE_MINIMO_APROVACAO'] and\n",
        "              renda >= politica['RENDA_MINIMA_APROVACAO'] and\n",
        "              idade >= politica['IDADE_MINIMA_APROVACAO']):\n",
        "            decisoes.append('Aprovado')\n",
        "            justificativas.append(\"Cliente atende aos critérios combinados de score, renda e idade para aprovação.\")\n",
        "\n",
        "        else:\n",
        "            decisoes.append('Análise Manual')\n",
        "            justificativas.append('Não se enquadrou em nenhuma regra automática. Requer revisão humana.')\n",
        "\n",
        "    df_solicitantes['decisao'] = decisoes\n",
        "    df_solicitantes['justificativa_regra'] = justificativas\n",
        "\n",
        "    return df_solicitantes"
      ],
      "metadata": {
        "colab": {
          "base_uri": "https://localhost:8080/"
        },
        "id": "lwx70U5Y0_wv",
        "outputId": "dca498f6-bd9f-4445-e44a-7b21cb827fd2"
      },
      "execution_count": 4,
      "outputs": [
        {
          "output_type": "stream",
          "name": "stdout",
          "text": [
            "Writing PROJETO_2_AUTOMACAO_TESTES/motor_credito/engine.py\n"
          ]
        }
      ]
    },
    {
      "cell_type": "code",
      "source": [
        "# 2.4 - Casos de Teste (CSV)\n",
        "\n",
        "# Aprovação:\n",
        "\n",
        "%%writefile PROJETO_2_AUTOMACAO_TESTES/testes/casos_de_teste/casos_aprovacao.csv\n",
        "id_caso,idade,renda_mensal,score_credito,resultado_esperado\n",
        "APV001,30,8000,800,Aprovado\n",
        "APV002,45,15000,960,Aprovado\n",
        "APV003,25,5000,750,Aprovado"
      ],
      "metadata": {
        "colab": {
          "base_uri": "https://localhost:8080/"
        },
        "id": "cBsbCkh014TK",
        "outputId": "83995465-272c-4453-97f0-b96b1e650a75"
      },
      "execution_count": 5,
      "outputs": [
        {
          "output_type": "stream",
          "name": "stdout",
          "text": [
            "Writing PROJETO_2_AUTOMACAO_TESTES/testes/casos_de_teste/casos_aprovacao.csv\n"
          ]
        }
      ]
    },
    {
      "cell_type": "code",
      "source": [
        "# Negação:\n",
        "\n",
        "%%writefile PROJETO_2_AUTOMACAO_TESTES/testes/casos_de_teste/casos_negacao.csv\n",
        "id_caso,idade,renda_mensal,score_credito,resultado_esperado\n",
        "NEG001,17,5000,800,Negado\n",
        "NEG002,25,3000,250,Negado\n",
        "NEG003,30,1499.99,700,Negado"
      ],
      "metadata": {
        "colab": {
          "base_uri": "https://localhost:8080/"
        },
        "id": "_3Pr2rcX13-f",
        "outputId": "f1fe2734-bdf8-4b18-b934-8df311130e32"
      },
      "execution_count": 6,
      "outputs": [
        {
          "output_type": "stream",
          "name": "stdout",
          "text": [
            "Writing PROJETO_2_AUTOMACAO_TESTES/testes/casos_de_teste/casos_negacao.csv\n"
          ]
        }
      ]
    },
    {
      "cell_type": "code",
      "source": [
        "# Casos de Borda:\n",
        "\n",
        "%%writefile PROJETO_2_AUTOMACAO_TESTES/testes/casos_de_teste/casos_borda.csv\n",
        "id_caso,idade,renda_mensal,score_credito,resultado_esperado\n",
        "BORDA001,18,1500,300,Análise Manual\n",
        "BORDA002,24,10000,800,Análise Manual\n",
        "BORDA003,25,4999.99,750,Análise Manual\n",
        "BORDA004,30,6000,749,Análise Manual\n",
        "BORDA005,18,2000,950,Aprovado"
      ],
      "metadata": {
        "colab": {
          "base_uri": "https://localhost:8080/"
        },
        "id": "Z2ZSHUSJ2M9e",
        "outputId": "e6ece454-fbd7-4ce6-80e2-66a0b772f987"
      },
      "execution_count": 7,
      "outputs": [
        {
          "output_type": "stream",
          "name": "stdout",
          "text": [
            "Writing PROJETO_2_AUTOMACAO_TESTES/testes/casos_de_teste/casos_borda.csv\n"
          ]
        }
      ]
    },
    {
      "cell_type": "code",
      "source": [
        "# 2.5 - O Script de Testes (test_regras_credito.py)\n",
        "\n",
        "%%writefile PROJETO_2_AUTOMACAO_TESTES/testes/test_regras_credito.py\n",
        "import pytest\n",
        "import pandas as pd\n",
        "import sys\n",
        "import os\n",
        "\n",
        "# Adiciona o diretório raiz do projeto ao path para encontrar o 'motor_credito'\n",
        "sys.path.insert(0, os.path.abspath(os.path.join(os.path.dirname(__file__), '..')))\n",
        "\n",
        "from motor_credito.engine import executar_motor_de_analise, carregar_politica_de_credito\n",
        "\n",
        "# Caminhos absolutos para os arquivos\n",
        "BASE_DIR = os.path.dirname(os.path.dirname(os.path.abspath(__file__)))\n",
        "POLITICA_PATH = os.path.join(BASE_DIR, 'config/politica_credito.json')\n",
        "CASOS_TESTE_DIR = os.path.join(BASE_DIR, 'testes/casos_de_teste')\n",
        "\n",
        "POLITICA_CREDITO = carregar_politica_de_credito(POLITICA_PATH)\n",
        "\n",
        "def ler_casos_de_teste(caminho_csv: str) -> list:\n",
        "    df = pd.read_csv(caminho_csv)\n",
        "    return [tuple(x) for x in df.to_numpy()]\n",
        "\n",
        "casos_aprovacao = ler_casos_de_teste(os.path.join(CASOS_TESTE_DIR, 'casos_aprovacao.csv'))\n",
        "casos_negacao = ler_casos_de_teste(os.path.join(CASOS_TESTE_DIR, 'casos_negacao.csv'))\n",
        "casos_borda = ler_casos_de_teste(os.path.join(CASOS_TESTE_DIR, 'casos_borda.csv'))\n",
        "\n",
        "@pytest.mark.parametrize(\"id_caso, idade, renda_mensal, score_credito, resultado_esperado\", casos_aprovacao)\n",
        "def test_regras_de_aprovacao(id_caso, idade, renda_mensal, score_credito, resultado_esperado):\n",
        "    dados_solicitante = {'idade': [idade], 'renda_mensal': [renda_mensal], 'score_credito': [score_credito]}\n",
        "    df_teste = pd.DataFrame(dados_solicitante)\n",
        "    df_resultado = executar_motor_de_analise(df_teste, POLITICA_CREDITO)\n",
        "    decisao_obtida = df_resultado['decisao'].iloc[0]\n",
        "    assert decisao_obtida == resultado_esperado\n",
        "\n",
        "@pytest.mark.parametrize(\"id_caso, idade, renda_mensal, score_credito, resultado_esperado\", casos_negacao)\n",
        "def test_regras_de_negacao(id_caso, idade, renda_mensal, score_credito, resultado_esperado):\n",
        "    dados_solicitante = {'idade': [idade], 'renda_mensal': [renda_mensal], 'score_credito': [score_credito]}\n",
        "    df_teste = pd.DataFrame(dados_solicitante)\n",
        "    df_resultado = executar_motor_de_analise(df_teste, POLITICA_CREDITO)\n",
        "    decisao_obtida = df_resultado['decisao'].iloc[0]\n",
        "    assert decisao_obtida == resultado_esperado\n",
        "\n",
        "@pytest.mark.parametrize(\"id_caso, idade, renda_mensal, score_credito, resultado_esperado\", casos_borda)\n",
        "def test_regras_de_borda(id_caso, idade, renda_mensal, score_credito, resultado_esperado):\n",
        "    dados_solicitante = {'idade': [idade], 'renda_mensal': [renda_mensal], 'score_credito': [score_credito]}\n",
        "    df_teste = pd.DataFrame(dados_solicitante)\n",
        "    df_resultado = executar_motor_de_analise(df_teste, POLITICA_CREDITO)\n",
        "    decisao_obtida = df_resultado['decisao'].iloc[0]\n",
        "    assert decisao_obtida == resultado_esperado"
      ],
      "metadata": {
        "colab": {
          "base_uri": "https://localhost:8080/"
        },
        "id": "SH6HNlPi2NXG",
        "outputId": "7e6af5a3-69fc-4759-e3a5-36622156ae01"
      },
      "execution_count": 8,
      "outputs": [
        {
          "output_type": "stream",
          "name": "stdout",
          "text": [
            "Writing PROJETO_2_AUTOMACAO_TESTES/testes/test_regras_credito.py\n"
          ]
        }
      ]
    },
    {
      "cell_type": "code",
      "source": [
        "# 2.6 - O Executor Principal (main_executor_testes.py)\n",
        "\n",
        "%%writefile PROJETO_2_AUTOMACAO_TESTES/main_executor_testes.py\n",
        "import pytest\n",
        "from datetime import datetime\n",
        "import os\n",
        "\n",
        "def executar_testes_e_gerar_relatorio():\n",
        "    print(\"=\"*58)\n",
        "    print(\"==  AUTOMAÇÃO DE TESTES PARA VALIDAÇÃO DE REGRAS DE CRÉDITO ==\")\n",
        "    print(\"=\"*58)\n",
        "    print(f\"\\nIniciando a execução dos testes em: {datetime.now().strftime('%Y-%m-%d %H:%M:%S')}\\n\")\n",
        "\n",
        "    caminho_testes = \"testes/\"\n",
        "    args = [caminho_testes, \"-v\"]\n",
        "\n",
        "    # Navega para o diretório do projeto antes de rodar os testes\n",
        "    os.chdir('PROJETO_2_AUTOMACAO_TESTES')\n",
        "\n",
        "    exit_code = pytest.main(args)\n",
        "\n",
        "    print(\"\\n--- Análise do Relatório de Testes ---\")\n",
        "\n",
        "    if exit_code == 0:\n",
        "        print(\"\\n SUCESSO! Todos os casos de teste passaram.\")\n",
        "        print(\"A lógica do motor de crédito está funcionando conforme os cenários esperados.\")\n",
        "    elif exit_code == 1:\n",
        "        print(\"\\n FALHA! Foram encontradas inconsistências nos casos de teste.\")\n",
        "        print(\"Uma ou mais regras não se comportaram como o esperado.\")\n",
        "    else:\n",
        "        print(f\"\\n ATENÇÃO! A execução terminou com um código de erro: {exit_code}.\")\n",
        "\n",
        "    print(\"\\n\" + \"=\"*58)\n",
        "    print(\"==                  Execução Finalizada                 ==\")\n",
        "    print(\"=\"*58)\n",
        "\n",
        "if __name__ == \"__main__\":\n",
        "    executar_testes_e_gerar_relatorio()"
      ],
      "metadata": {
        "colab": {
          "base_uri": "https://localhost:8080/"
        },
        "id": "w0JU6lWA2qve",
        "outputId": "88da3bea-0d95-4bea-c294-69e115c43c32"
      },
      "execution_count": 12,
      "outputs": [
        {
          "output_type": "stream",
          "name": "stdout",
          "text": [
            "Overwriting PROJETO_2_AUTOMACAO_TESTES/main_executor_testes.py\n"
          ]
        }
      ]
    },
    {
      "cell_type": "code",
      "source": [
        "# Passo 3: Instalando as Dependências\n",
        "\n",
        "!pip install -r PROJETO_2_AUTOMACAO_TESTES/requirements.txt"
      ],
      "metadata": {
        "colab": {
          "base_uri": "https://localhost:8080/"
        },
        "id": "-Uy-8KmB3a78",
        "outputId": "eaea1465-6a8d-4d80-a5e0-f47f6fb15af6"
      },
      "execution_count": 13,
      "outputs": [
        {
          "output_type": "stream",
          "name": "stdout",
          "text": [
            "Requirement already satisfied: pandas in /usr/local/lib/python3.12/dist-packages (from -r PROJETO_2_AUTOMACAO_TESTES/requirements.txt (line 1)) (2.2.2)\n",
            "Requirement already satisfied: pytest in /usr/local/lib/python3.12/dist-packages (from -r PROJETO_2_AUTOMACAO_TESTES/requirements.txt (line 2)) (8.4.1)\n",
            "Requirement already satisfied: openpyxl in /usr/local/lib/python3.12/dist-packages (from -r PROJETO_2_AUTOMACAO_TESTES/requirements.txt (line 3)) (3.1.5)\n",
            "Requirement already satisfied: numpy>=1.26.0 in /usr/local/lib/python3.12/dist-packages (from pandas->-r PROJETO_2_AUTOMACAO_TESTES/requirements.txt (line 1)) (2.0.2)\n",
            "Requirement already satisfied: python-dateutil>=2.8.2 in /usr/local/lib/python3.12/dist-packages (from pandas->-r PROJETO_2_AUTOMACAO_TESTES/requirements.txt (line 1)) (2.9.0.post0)\n",
            "Requirement already satisfied: pytz>=2020.1 in /usr/local/lib/python3.12/dist-packages (from pandas->-r PROJETO_2_AUTOMACAO_TESTES/requirements.txt (line 1)) (2025.2)\n",
            "Requirement already satisfied: tzdata>=2022.7 in /usr/local/lib/python3.12/dist-packages (from pandas->-r PROJETO_2_AUTOMACAO_TESTES/requirements.txt (line 1)) (2025.2)\n",
            "Requirement already satisfied: iniconfig>=1 in /usr/local/lib/python3.12/dist-packages (from pytest->-r PROJETO_2_AUTOMACAO_TESTES/requirements.txt (line 2)) (2.1.0)\n",
            "Requirement already satisfied: packaging>=20 in /usr/local/lib/python3.12/dist-packages (from pytest->-r PROJETO_2_AUTOMACAO_TESTES/requirements.txt (line 2)) (25.0)\n",
            "Requirement already satisfied: pluggy<2,>=1.5 in /usr/local/lib/python3.12/dist-packages (from pytest->-r PROJETO_2_AUTOMACAO_TESTES/requirements.txt (line 2)) (1.6.0)\n",
            "Requirement already satisfied: pygments>=2.7.2 in /usr/local/lib/python3.12/dist-packages (from pytest->-r PROJETO_2_AUTOMACAO_TESTES/requirements.txt (line 2)) (2.19.2)\n",
            "Requirement already satisfied: et-xmlfile in /usr/local/lib/python3.12/dist-packages (from openpyxl->-r PROJETO_2_AUTOMACAO_TESTES/requirements.txt (line 3)) (2.0.0)\n",
            "Requirement already satisfied: six>=1.5 in /usr/local/lib/python3.12/dist-packages (from python-dateutil>=2.8.2->pandas->-r PROJETO_2_AUTOMACAO_TESTES/requirements.txt (line 1)) (1.17.0)\n"
          ]
        }
      ]
    },
    {
      "cell_type": "code",
      "source": [
        "# Passo 4: Executando a Automação de Testes\n",
        "\n",
        "!python PROJETO_2_AUTOMACAO_TESTES/main_executor_testes.py"
      ],
      "metadata": {
        "colab": {
          "base_uri": "https://localhost:8080/"
        },
        "id": "cv4T3xTi3jwu",
        "outputId": "74d1a235-b751-4cc2-9842-428a748f1fbe"
      },
      "execution_count": 14,
      "outputs": [
        {
          "output_type": "stream",
          "name": "stdout",
          "text": [
            "==========================================================\n",
            "==  AUTOMAÇÃO DE TESTES PARA VALIDAÇÃO DE REGRAS DE CRÉDITO ==\n",
            "==========================================================\n",
            "\n",
            "Iniciando a execução dos testes em: 2025-08-19 19:55:18\n",
            "\n",
            "\u001b[1m============================= test session starts ==============================\u001b[0m\n",
            "platform linux -- Python 3.12.11, pytest-8.4.1, pluggy-1.6.0 -- /usr/bin/python3\n",
            "cachedir: .pytest_cache\n",
            "rootdir: /content/PROJETO_2_AUTOMACAO_TESTES\n",
            "plugins: anyio-4.10.0, langsmith-0.4.14, typeguard-4.4.4\n",
            "collected 11 items                                                             \u001b[0m\n",
            "\n",
            "testes/test_regras_credito.py::test_regras_de_aprovacao[APV001-30-8000-800-Aprovado] \u001b[32mPASSED\u001b[0m\u001b[32m [  9%]\u001b[0m\n",
            "testes/test_regras_credito.py::test_regras_de_aprovacao[APV002-45-15000-960-Aprovado] \u001b[32mPASSED\u001b[0m\u001b[32m [ 18%]\u001b[0m\n",
            "testes/test_regras_credito.py::test_regras_de_aprovacao[APV003-25-5000-750-Aprovado] \u001b[32mPASSED\u001b[0m\u001b[32m [ 27%]\u001b[0m\n",
            "testes/test_regras_credito.py::test_regras_de_negacao[NEG001-17-5000.0-800-Negado] \u001b[32mPASSED\u001b[0m\u001b[32m [ 36%]\u001b[0m\n",
            "testes/test_regras_credito.py::test_regras_de_negacao[NEG002-25-3000.0-250-Negado] \u001b[32mPASSED\u001b[0m\u001b[32m [ 45%]\u001b[0m\n",
            "testes/test_regras_credito.py::test_regras_de_negacao[NEG003-30-1499.99-700-Negado] \u001b[32mPASSED\u001b[0m\u001b[32m [ 54%]\u001b[0m\n",
            "testes/test_regras_credito.py::test_regras_de_borda[BORDA001-18-1500.0-300-An\\xe1lise Manual] \u001b[32mPASSED\u001b[0m\u001b[32m [ 63%]\u001b[0m\n",
            "testes/test_regras_credito.py::test_regras_de_borda[BORDA002-24-10000.0-800-An\\xe1lise Manual] \u001b[32mPASSED\u001b[0m\u001b[32m [ 72%]\u001b[0m\n",
            "testes/test_regras_credito.py::test_regras_de_borda[BORDA003-25-4999.99-750-An\\xe1lise Manual] \u001b[32mPASSED\u001b[0m\u001b[32m [ 81%]\u001b[0m\n",
            "testes/test_regras_credito.py::test_regras_de_borda[BORDA004-30-6000.0-749-An\\xe1lise Manual] \u001b[32mPASSED\u001b[0m\u001b[32m [ 90%]\u001b[0m\n",
            "testes/test_regras_credito.py::test_regras_de_borda[BORDA005-18-2000.0-950-Aprovado] \u001b[32mPASSED\u001b[0m\u001b[32m [100%]\u001b[0m\n",
            "\n",
            "\u001b[32m============================== \u001b[32m\u001b[1m11 passed\u001b[0m\u001b[32m in 0.63s\u001b[0m\u001b[32m ==============================\u001b[0m\n",
            "\n",
            "--- Análise do Relatório de Testes ---\n",
            "\n",
            " SUCESSO! Todos os casos de teste passaram.\n",
            "A lógica do motor de crédito está funcionando conforme os cenários esperados.\n",
            "\n",
            "==========================================================\n",
            "==                  Execução Finalizada                 ==\n",
            "==========================================================\n"
          ]
        }
      ]
    },
    {
      "cell_type": "code",
      "source": [],
      "metadata": {
        "id": "bnBiGjM530AP"
      },
      "execution_count": null,
      "outputs": []
    }
  ]
}